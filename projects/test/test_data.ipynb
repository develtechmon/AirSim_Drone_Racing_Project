{
 "cells": [
  {
   "cell_type": "code",
   "execution_count": 2,
   "id": "f166ff11",
   "metadata": {},
   "outputs": [],
   "source": [
    "import numpy as np"
   ]
  },
  {
   "cell_type": "code",
   "execution_count": 3,
   "id": "3045f28b",
   "metadata": {},
   "outputs": [
    {
     "name": "stdout",
     "output_type": "stream",
     "text": [
      "74 67\n"
     ]
    }
   ],
   "source": [
    "drone_pose = None\n",
    "canvas_size = 100\n",
    "\n",
    "x = np.random.randint(50, canvas_size - 20)\n",
    "y = np.random.randint(50, canvas_size - 20)\n",
    "\n",
    "print(x,y)"
   ]
  },
  {
   "cell_type": "code",
   "execution_count": 4,
   "id": "e59c1067",
   "metadata": {},
   "outputs": [
    {
     "name": "stdout",
     "output_type": "stream",
     "text": [
      "Drone Pose: [74. 67.]\n"
     ]
    }
   ],
   "source": [
    "drone_pose = np.array([x,y], dtype=np.float32)\n",
    "print(\"Drone Pose:\", drone_pose)"
   ]
  },
  {
   "cell_type": "code",
   "execution_count": 5,
   "id": "b2fa4770",
   "metadata": {},
   "outputs": [
    {
     "name": "stdout",
     "output_type": "stream",
     "text": [
      "74.0 67.0 74.0 67.0\n"
     ]
    }
   ],
   "source": [
    "a = drone_pose [0]\n",
    "b = drone_pose [1]\n",
    "c = drone_pose [0]\n",
    "d = drone_pose [1]\n",
    "\n",
    "print(a,b,c,d)"
   ]
  },
  {
   "cell_type": "code",
   "execution_count": 6,
   "id": "dd6007ee",
   "metadata": {},
   "outputs": [
    {
     "name": "stdout",
     "output_type": "stream",
     "text": [
      "0.74 0.67 0.74 0.67\n"
     ]
    }
   ],
   "source": [
    "# normalized\n",
    "an = a / canvas_size\n",
    "bn = b / canvas_size\n",
    "cn = c / canvas_size           \n",
    "dn = d / canvas_size\n",
    "print(an, bn, cn, dn)"
   ]
  },
  {
   "cell_type": "code",
   "execution_count": null,
   "id": "fcb3e158",
   "metadata": {},
   "outputs": [],
   "source": []
  }
 ],
 "metadata": {
  "kernelspec": {
   "display_name": "ai_gym",
   "language": "python",
   "name": "python3"
  },
  "language_info": {
   "codemirror_mode": {
    "name": "ipython",
    "version": 3
   },
   "file_extension": ".py",
   "mimetype": "text/x-python",
   "name": "python",
   "nbconvert_exporter": "python",
   "pygments_lexer": "ipython3",
   "version": "3.9.0"
  }
 },
 "nbformat": 4,
 "nbformat_minor": 5
}
