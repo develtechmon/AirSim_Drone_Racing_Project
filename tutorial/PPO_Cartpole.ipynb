{
 "cells": [
  {
   "cell_type": "markdown",
   "id": "ff1dd21e",
   "metadata": {},
   "source": [
    "## Step1 : Declare and Wrap Environment"
   ]
  },
  {
   "cell_type": "code",
   "execution_count": null,
   "id": "0b5cdbe7",
   "metadata": {},
   "outputs": [],
   "source": [
    "import gymnasium as gym\n",
    "from stable_baselines3 import PPO\n",
    "from stable_baselines3.common.monitor import Monitor\n",
    "import matplotlib.pyplot as plt\n",
    "import pandas as pd\n",
    "\n",
    "from stable_baselines3 import PPO\n",
    "import matplotlib.pyplot as plt\n",
    "import pandas as pd\n",
    "\n",
    "# Create the CartPole-v1 environment\n",
    "log_dir = \"./logs/\"\n",
    "env = gym.make(\"CartPole-v1\", render_mode=\"human\")\n",
    "env = Monitor(env, log_dir + \"dqn_monitor.csv\")"
   ]
  },
  {
   "cell_type": "markdown",
   "id": "13b971a5",
   "metadata": {},
   "source": [
    "## Step 2: Train the PPO Model at 100000 timesteps"
   ]
  },
  {
   "cell_type": "code",
   "execution_count": null,
   "id": "db8393f0",
   "metadata": {},
   "outputs": [],
   "source": [
    "# Initialize PPO model\n",
    "model = PPO(\"MlpPolicy\", env, verbose=1)\n",
    "\n",
    "# Train the model\n",
    "model.learn(total_timesteps=100000)\n",
    "\n",
    "# Save the trained model\n",
    "model.save(\"ppo_cartpole\")"
   ]
  },
  {
   "cell_type": "markdown",
   "id": "5bb49e04",
   "metadata": {},
   "source": [
    "## Step 3: Visualize Training Rewards"
   ]
  },
  {
   "cell_type": "code",
   "execution_count": null,
   "id": "46f04688",
   "metadata": {},
   "outputs": [],
   "source": [
    "\n",
    "# Load log data from monitor.csv\n",
    "log_dir = \"./logs/\"\n",
    "\n",
    "log_file = log_dir + \"dqn_monitor.csv\"\n",
    "log_data = pd.read_csv(log_file, skiprows=1)\n",
    "\n",
    "# Plot rewards\n",
    "plt.plot(log_data[\"r\"], label=\"Episode Reward\")\n",
    "plt.xlabel(\"Episodes\")\n",
    "plt.ylabel(\"Rewards\")\n",
    "plt.title(\"Training Rewards\")\n",
    "plt.legend()\n",
    "plt.show()"
   ]
  },
  {
   "cell_type": "markdown",
   "id": "6a7c33ea",
   "metadata": {},
   "source": [
    "## Step 4: Test the Model and Visualize"
   ]
  },
  {
   "cell_type": "code",
   "execution_count": null,
   "id": "72f008ca",
   "metadata": {},
   "outputs": [],
   "source": [
    "# Load the trained model\n",
    "from stable_baselines3 import PPO\n",
    "import gymnasium as gym\n",
    "\n",
    "# Create the environment\n",
    "env = gym.make(\"CartPole-v1\", render_mode=\"human\")\n",
    "\n",
    "# Load the trained model\n",
    "model = PPO.load(\"ppo_cartpole\")\n",
    "\n",
    "# Test the model\n",
    "obs, _ = env.reset()\n",
    "done, truncated = False, False\n",
    "total_reward = 0\n",
    "\n",
    "while not (done or truncated):\n",
    "    # Predict the action using the trained model\n",
    "    action, _ = model.predict(obs, deterministic=True)\n",
    "    \n",
    "    # Take a step in the environment\n",
    "    obs, reward, done, truncated, info = env.step(action)\n",
    "    total_reward += reward\n",
    "\n",
    "    # Render the environment\n",
    "    env.render()\n",
    "\n",
    "print(f\"Total reward: {total_reward}\")\n",
    "env.close()"
   ]
  },
  {
   "cell_type": "code",
   "execution_count": null,
   "id": "54990493",
   "metadata": {},
   "outputs": [],
   "source": []
  }
 ],
 "metadata": {
  "kernelspec": {
   "display_name": "ai_gym",
   "language": "python",
   "name": "python3"
  },
  "language_info": {
   "codemirror_mode": {
    "name": "ipython",
    "version": 3
   },
   "file_extension": ".py",
   "mimetype": "text/x-python",
   "name": "python",
   "nbconvert_exporter": "python",
   "pygments_lexer": "ipython3",
   "version": "3.9.0"
  }
 },
 "nbformat": 4,
 "nbformat_minor": 5
}
